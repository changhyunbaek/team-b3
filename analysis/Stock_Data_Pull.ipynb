{
 "cells": [
  {
   "cell_type": "code",
   "execution_count": 3,
   "metadata": {},
   "outputs": [],
   "source": [
    "## Code by Eric Englin\n",
    "## This is a project for Team B3 in Harvard Kennedy School Code 4 Policy course\n",
    "# This jupyter notebook pulls historical NYSE stock data for major companies in the auto & tech industry\n",
    "# Please note that many car companies do not participate in the NYSE, so these companies wil"
   ]
  },
  {
   "cell_type": "code",
   "execution_count": 1,
   "metadata": {},
   "outputs": [
    {
     "name": "stdout",
     "output_type": "stream",
     "text": [
      "TSLA\n",
      "TM\n",
      "NVDA\n",
      "RACE\n",
      "GM\n",
      "HMC\n",
      "FUV\n",
      "HOG\n",
      "FCAU\n",
      "F\n",
      "KNDI\n",
      "NIO\n",
      "TTM\n",
      "SPAR\n",
      "WKHS\n",
      "GOOGL\n"
     ]
    }
   ],
   "source": [
    "from datetime import datetime\n",
    "from concurrent import futures\n",
    "import matplotlib.pyplot as plt\n",
    "\n",
    "import pandas as pd\n",
    "from pandas import DataFrame\n",
    "import pandas_datareader.data as web\n",
    "\n",
    "\n",
    "auto = ['TSLA','TM','NVDA','RACE','GM','HMC','FUV','HOG','FCAU','F','KNDI',\n",
    "        'NIO','TTM','SPAR','WKHS','GOOGL']\n",
    "\n",
    "autoname = {\n",
    "    'TSLA':'Tesla',\n",
    "    'TM':'Toyota Motors',\n",
    "    'RACE':'Ferrari',\n",
    "    'GM':'General Motors',\n",
    "    'HMC':'Honda Motors Company',\n",
    "    'FUV':'Arcimoto',\n",
    "    'NVDA':'Nvidia',\n",
    "    'HOG':'Harley Davidson',\n",
    "    'FCAU':'Fiat Chrysler',\n",
    "    'F':'Ford',\n",
    "    'KNDI':'Kandi Technologies Inc',\n",
    "    'NIO':'NIO',\n",
    "    'TTM':'Tata Motors',\n",
    "    'SPAR':'Spartan Motors',\n",
    "    'WKHS':'Workhorse Group Inc',\n",
    "    'GOOGL':'Alpabet / Google'\n",
    "}\n",
    "\n",
    "now_time = datetime.now()\n",
    "start_time = datetime(now_time.year - 5, now_time.month , now_time.day)\n",
    "stock_df=[]\n",
    "df = pd.DataFrame([])\n",
    "stockplot=[]\n",
    "\n",
    "\n",
    "for x in auto:\n",
    "    print(x)\n",
    "    stock_df = web.DataReader(x,'iex', start_time, now_time)\n",
    "    stock_df['Name'] = x\n",
    "    stock_df['RealName'] = autoname[x]\n",
    "    df = df.append(stock_df)\n",
    "    stockplot = stock_df.drop(['high','low','volume','close'],axis=1)\n",
    "    RealName=stockplot['RealName']\n",
    "    stockplot.plot()\n",
    "    plt.axis()\n",
    "    plt.title(autoname[x])"
   ]
  },
  {
   "cell_type": "code",
   "execution_count": 5,
   "metadata": {},
   "outputs": [
    {
     "data": {
      "text/html": [
       "<div>\n",
       "<style scoped>\n",
       "    .dataframe tbody tr th:only-of-type {\n",
       "        vertical-align: middle;\n",
       "    }\n",
       "\n",
       "    .dataframe tbody tr th {\n",
       "        vertical-align: top;\n",
       "    }\n",
       "\n",
       "    .dataframe thead th {\n",
       "        text-align: right;\n",
       "    }\n",
       "</style>\n",
       "<table border=\"1\" class=\"dataframe\">\n",
       "  <thead>\n",
       "    <tr style=\"text-align: right;\">\n",
       "      <th></th>\n",
       "      <th>open</th>\n",
       "      <th>high</th>\n",
       "      <th>low</th>\n",
       "      <th>close</th>\n",
       "      <th>volume</th>\n",
       "      <th>Name</th>\n",
       "      <th>RealName</th>\n",
       "    </tr>\n",
       "    <tr>\n",
       "      <th>date</th>\n",
       "      <th></th>\n",
       "      <th></th>\n",
       "      <th></th>\n",
       "      <th></th>\n",
       "      <th></th>\n",
       "      <th></th>\n",
       "      <th></th>\n",
       "    </tr>\n",
       "  </thead>\n",
       "  <tbody>\n",
       "    <tr>\n",
       "      <th>2014-01-17</th>\n",
       "      <td>170.19</td>\n",
       "      <td>173.200</td>\n",
       "      <td>167.950</td>\n",
       "      <td>170.01</td>\n",
       "      <td>9216028</td>\n",
       "      <td>TSLA</td>\n",
       "      <td>Tesla</td>\n",
       "    </tr>\n",
       "    <tr>\n",
       "      <th>2014-01-21</th>\n",
       "      <td>171.24</td>\n",
       "      <td>177.290</td>\n",
       "      <td>170.810</td>\n",
       "      <td>176.68</td>\n",
       "      <td>9745765</td>\n",
       "      <td>TSLA</td>\n",
       "      <td>Tesla</td>\n",
       "    </tr>\n",
       "    <tr>\n",
       "      <th>2014-01-22</th>\n",
       "      <td>177.81</td>\n",
       "      <td>180.319</td>\n",
       "      <td>174.760</td>\n",
       "      <td>178.56</td>\n",
       "      <td>7036758</td>\n",
       "      <td>TSLA</td>\n",
       "      <td>Tesla</td>\n",
       "    </tr>\n",
       "    <tr>\n",
       "      <th>2014-01-23</th>\n",
       "      <td>177.23</td>\n",
       "      <td>182.380</td>\n",
       "      <td>173.420</td>\n",
       "      <td>181.50</td>\n",
       "      <td>7899515</td>\n",
       "      <td>TSLA</td>\n",
       "      <td>Tesla</td>\n",
       "    </tr>\n",
       "    <tr>\n",
       "      <th>2014-01-24</th>\n",
       "      <td>177.85</td>\n",
       "      <td>180.480</td>\n",
       "      <td>173.531</td>\n",
       "      <td>174.60</td>\n",
       "      <td>7711296</td>\n",
       "      <td>TSLA</td>\n",
       "      <td>Tesla</td>\n",
       "    </tr>\n",
       "  </tbody>\n",
       "</table>\n",
       "</div>"
      ],
      "text/plain": [
       "              open     high      low   close   volume  Name RealName\n",
       "date                                                                \n",
       "2014-01-17  170.19  173.200  167.950  170.01  9216028  TSLA    Tesla\n",
       "2014-01-21  171.24  177.290  170.810  176.68  9745765  TSLA    Tesla\n",
       "2014-01-22  177.81  180.319  174.760  178.56  7036758  TSLA    Tesla\n",
       "2014-01-23  177.23  182.380  173.420  181.50  7899515  TSLA    Tesla\n",
       "2014-01-24  177.85  180.480  173.531  174.60  7711296  TSLA    Tesla"
      ]
     },
     "execution_count": 5,
     "metadata": {},
     "output_type": "execute_result"
    }
   ],
   "source": [
    "#Look at the table to ensure that table starts 5 years ago with Tesla\n",
    "#Also want to make sure that RealName variable came through\n",
    "pd.DataFrame.head(df)"
   ]
  },
  {
   "cell_type": "code",
   "execution_count": 6,
   "metadata": {},
   "outputs": [
    {
     "data": {
      "text/html": [
       "<div>\n",
       "<style scoped>\n",
       "    .dataframe tbody tr th:only-of-type {\n",
       "        vertical-align: middle;\n",
       "    }\n",
       "\n",
       "    .dataframe tbody tr th {\n",
       "        vertical-align: top;\n",
       "    }\n",
       "\n",
       "    .dataframe thead th {\n",
       "        text-align: right;\n",
       "    }\n",
       "</style>\n",
       "<table border=\"1\" class=\"dataframe\">\n",
       "  <thead>\n",
       "    <tr style=\"text-align: right;\">\n",
       "      <th></th>\n",
       "      <th>open</th>\n",
       "      <th>high</th>\n",
       "      <th>low</th>\n",
       "      <th>close</th>\n",
       "      <th>volume</th>\n",
       "      <th>Name</th>\n",
       "      <th>RealName</th>\n",
       "    </tr>\n",
       "    <tr>\n",
       "      <th>date</th>\n",
       "      <th></th>\n",
       "      <th></th>\n",
       "      <th></th>\n",
       "      <th></th>\n",
       "      <th></th>\n",
       "      <th></th>\n",
       "      <th></th>\n",
       "    </tr>\n",
       "  </thead>\n",
       "  <tbody>\n",
       "    <tr>\n",
       "      <th>2019-01-10</th>\n",
       "      <td>1074.94</td>\n",
       "      <td>1079.81</td>\n",
       "      <td>1064.68</td>\n",
       "      <td>1078.83</td>\n",
       "      <td>1329861</td>\n",
       "      <td>GOOGL</td>\n",
       "      <td>Alpabet / Google</td>\n",
       "    </tr>\n",
       "    <tr>\n",
       "      <th>2019-01-11</th>\n",
       "      <td>1069.90</td>\n",
       "      <td>1073.37</td>\n",
       "      <td>1056.43</td>\n",
       "      <td>1064.47</td>\n",
       "      <td>1543238</td>\n",
       "      <td>GOOGL</td>\n",
       "      <td>Alpabet / Google</td>\n",
       "    </tr>\n",
       "    <tr>\n",
       "      <th>2019-01-14</th>\n",
       "      <td>1053.34</td>\n",
       "      <td>1058.45</td>\n",
       "      <td>1048.55</td>\n",
       "      <td>1051.51</td>\n",
       "      <td>1424486</td>\n",
       "      <td>GOOGL</td>\n",
       "      <td>Alpabet / Google</td>\n",
       "    </tr>\n",
       "    <tr>\n",
       "      <th>2019-01-15</th>\n",
       "      <td>1058.01</td>\n",
       "      <td>1088.27</td>\n",
       "      <td>1054.44</td>\n",
       "      <td>1086.51</td>\n",
       "      <td>1875852</td>\n",
       "      <td>GOOGL</td>\n",
       "      <td>Alpabet / Google</td>\n",
       "    </tr>\n",
       "    <tr>\n",
       "      <th>2019-01-16</th>\n",
       "      <td>1090.00</td>\n",
       "      <td>1102.36</td>\n",
       "      <td>1088.01</td>\n",
       "      <td>1089.51</td>\n",
       "      <td>1914041</td>\n",
       "      <td>GOOGL</td>\n",
       "      <td>Alpabet / Google</td>\n",
       "    </tr>\n",
       "  </tbody>\n",
       "</table>\n",
       "</div>"
      ],
      "text/plain": [
       "               open     high      low    close   volume   Name  \\\n",
       "date                                                             \n",
       "2019-01-10  1074.94  1079.81  1064.68  1078.83  1329861  GOOGL   \n",
       "2019-01-11  1069.90  1073.37  1056.43  1064.47  1543238  GOOGL   \n",
       "2019-01-14  1053.34  1058.45  1048.55  1051.51  1424486  GOOGL   \n",
       "2019-01-15  1058.01  1088.27  1054.44  1086.51  1875852  GOOGL   \n",
       "2019-01-16  1090.00  1102.36  1088.01  1089.51  1914041  GOOGL   \n",
       "\n",
       "                    RealName  \n",
       "date                          \n",
       "2019-01-10  Alpabet / Google  \n",
       "2019-01-11  Alpabet / Google  \n",
       "2019-01-14  Alpabet / Google  \n",
       "2019-01-15  Alpabet / Google  \n",
       "2019-01-16  Alpabet / Google  "
      ]
     },
     "execution_count": 6,
     "metadata": {},
     "output_type": "execute_result"
    }
   ],
   "source": [
    "#Look at tail to make sure it is yesterday with GOOGL\n",
    "pd.DataFrame.tail(df)"
   ]
  },
  {
   "cell_type": "code",
   "execution_count": 7,
   "metadata": {},
   "outputs": [],
   "source": [
    "#Save as a final csv for data visualization\n",
    "df.to_csv('stock_5_years.csv')"
   ]
  },
  {
   "cell_type": "code",
   "execution_count": 8,
   "metadata": {},
   "outputs": [
    {
     "data": {
      "text/html": [
       "<div>\n",
       "<style scoped>\n",
       "    .dataframe tbody tr th:only-of-type {\n",
       "        vertical-align: middle;\n",
       "    }\n",
       "\n",
       "    .dataframe tbody tr th {\n",
       "        vertical-align: top;\n",
       "    }\n",
       "\n",
       "    .dataframe thead th {\n",
       "        text-align: right;\n",
       "    }\n",
       "</style>\n",
       "<table border=\"1\" class=\"dataframe\">\n",
       "  <thead>\n",
       "    <tr style=\"text-align: right;\">\n",
       "      <th></th>\n",
       "      <th>open</th>\n",
       "      <th>high</th>\n",
       "      <th>low</th>\n",
       "      <th>close</th>\n",
       "      <th>volume</th>\n",
       "      <th>Name</th>\n",
       "      <th>RealName</th>\n",
       "    </tr>\n",
       "    <tr>\n",
       "      <th>date</th>\n",
       "      <th></th>\n",
       "      <th></th>\n",
       "      <th></th>\n",
       "      <th></th>\n",
       "      <th></th>\n",
       "      <th></th>\n",
       "      <th></th>\n",
       "    </tr>\n",
       "  </thead>\n",
       "  <tbody>\n",
       "    <tr>\n",
       "      <th>2019-01-10</th>\n",
       "      <td>334.40</td>\n",
       "      <td>345.39</td>\n",
       "      <td>331.79</td>\n",
       "      <td>344.97</td>\n",
       "      <td>6056354</td>\n",
       "      <td>TSLA</td>\n",
       "      <td>Tesla</td>\n",
       "    </tr>\n",
       "    <tr>\n",
       "      <th>2019-01-11</th>\n",
       "      <td>342.09</td>\n",
       "      <td>348.41</td>\n",
       "      <td>338.77</td>\n",
       "      <td>347.26</td>\n",
       "      <td>5039052</td>\n",
       "      <td>TSLA</td>\n",
       "      <td>Tesla</td>\n",
       "    </tr>\n",
       "    <tr>\n",
       "      <th>2019-01-14</th>\n",
       "      <td>342.38</td>\n",
       "      <td>342.50</td>\n",
       "      <td>334.00</td>\n",
       "      <td>334.40</td>\n",
       "      <td>5247284</td>\n",
       "      <td>TSLA</td>\n",
       "      <td>Tesla</td>\n",
       "    </tr>\n",
       "    <tr>\n",
       "      <th>2019-01-15</th>\n",
       "      <td>335.00</td>\n",
       "      <td>348.80</td>\n",
       "      <td>334.50</td>\n",
       "      <td>344.43</td>\n",
       "      <td>6056590</td>\n",
       "      <td>TSLA</td>\n",
       "      <td>Tesla</td>\n",
       "    </tr>\n",
       "    <tr>\n",
       "      <th>2019-01-16</th>\n",
       "      <td>344.78</td>\n",
       "      <td>352.00</td>\n",
       "      <td>343.50</td>\n",
       "      <td>346.05</td>\n",
       "      <td>4691739</td>\n",
       "      <td>TSLA</td>\n",
       "      <td>Tesla</td>\n",
       "    </tr>\n",
       "  </tbody>\n",
       "</table>\n",
       "</div>"
      ],
      "text/plain": [
       "              open    high     low   close   volume  Name RealName\n",
       "date                                                              \n",
       "2019-01-10  334.40  345.39  331.79  344.97  6056354  TSLA    Tesla\n",
       "2019-01-11  342.09  348.41  338.77  347.26  5039052  TSLA    Tesla\n",
       "2019-01-14  342.38  342.50  334.00  334.40  5247284  TSLA    Tesla\n",
       "2019-01-15  335.00  348.80  334.50  344.43  6056590  TSLA    Tesla\n",
       "2019-01-16  344.78  352.00  343.50  346.05  4691739  TSLA    Tesla"
      ]
     },
     "execution_count": 8,
     "metadata": {},
     "output_type": "execute_result"
    }
   ],
   "source": [
    "df_Tesla = df[df['Name']=='TSLA']\n",
    "pd.DataFrame.tail(df_Tesla)"
   ]
  },
  {
   "cell_type": "code",
   "execution_count": 9,
   "metadata": {},
   "outputs": [],
   "source": [
    "df_Tesla=df_Tesla.drop(['high','low','volume','open'],axis=1)"
   ]
  },
  {
   "cell_type": "code",
   "execution_count": 14,
   "metadata": {},
   "outputs": [
    {
     "data": {
      "text/plain": [
       "['close', 'Name', 'RealName']"
      ]
     },
     "execution_count": 14,
     "metadata": {},
     "output_type": "execute_result"
    }
   ],
   "source": [
    "# We want our dates in 16-Apr-12 format\n",
    "list(df_Tesla.columns.values)"
   ]
  },
  {
   "cell_type": "code",
   "execution_count": 22,
   "metadata": {},
   "outputs": [],
   "source": [
    "#Building visualization specific to Telsa to start\n",
    "#Save as a final csv for data visualization\n",
    "df_Tesla.to_csv('../data/Tesla_Stock.csv')"
   ]
  },
  {
   "cell_type": "code",
   "execution_count": 24,
   "metadata": {},
   "outputs": [
    {
     "data": {
      "text/plain": [
       "<matplotlib.axes._subplots.AxesSubplot at 0x2c37b331f28>"
      ]
     },
     "execution_count": 24,
     "metadata": {},
     "output_type": "execute_result"
    },
    {
     "data": {
      "image/png": "[encoded data removed]",
      "text/plain": [
       "<matplotlib.figure.Figure at 0x2c37b329080>"
      ]
     },
     "metadata": {},
     "output_type": "display_data"
    }
   ],
   "source": [
    "df_Tesla.plot()"
   ]
  },
  {
   "cell_type": "code",
   "execution_count": 3,
   "metadata": {},
   "outputs": [
    {
     "data": {
      "text/html": [
       "<div>\n",
       "<style scoped>\n",
       "    .dataframe tbody tr th:only-of-type {\n",
       "        vertical-align: middle;\n",
       "    }\n",
       "\n",
       "    .dataframe tbody tr th {\n",
       "        vertical-align: top;\n",
       "    }\n",
       "\n",
       "    .dataframe thead th {\n",
       "        text-align: right;\n",
       "    }\n",
       "</style>\n",
       "<table border=\"1\" class=\"dataframe\">\n",
       "  <thead>\n",
       "    <tr style=\"text-align: right;\">\n",
       "      <th></th>\n",
       "      <th>close</th>\n",
       "      <th>Name</th>\n",
       "      <th>RealName</th>\n",
       "    </tr>\n",
       "    <tr>\n",
       "      <th>date</th>\n",
       "      <th></th>\n",
       "      <th></th>\n",
       "      <th></th>\n",
       "    </tr>\n",
       "  </thead>\n",
       "  <tbody>\n",
       "    <tr>\n",
       "      <th>2019-01-11</th>\n",
       "      <td>37.18</td>\n",
       "      <td>GM</td>\n",
       "      <td>General Motors</td>\n",
       "    </tr>\n",
       "    <tr>\n",
       "      <th>2019-01-14</th>\n",
       "      <td>37.66</td>\n",
       "      <td>GM</td>\n",
       "      <td>General Motors</td>\n",
       "    </tr>\n",
       "    <tr>\n",
       "      <th>2019-01-15</th>\n",
       "      <td>37.55</td>\n",
       "      <td>GM</td>\n",
       "      <td>General Motors</td>\n",
       "    </tr>\n",
       "    <tr>\n",
       "      <th>2019-01-16</th>\n",
       "      <td>37.67</td>\n",
       "      <td>GM</td>\n",
       "      <td>General Motors</td>\n",
       "    </tr>\n",
       "    <tr>\n",
       "      <th>2019-01-17</th>\n",
       "      <td>38.26</td>\n",
       "      <td>GM</td>\n",
       "      <td>General Motors</td>\n",
       "    </tr>\n",
       "  </tbody>\n",
       "</table>\n",
       "</div>"
      ],
      "text/plain": [
       "            close Name        RealName\n",
       "date                                  \n",
       "2019-01-11  37.18   GM  General Motors\n",
       "2019-01-14  37.66   GM  General Motors\n",
       "2019-01-15  37.55   GM  General Motors\n",
       "2019-01-16  37.67   GM  General Motors\n",
       "2019-01-17  38.26   GM  General Motors"
      ]
     },
     "execution_count": 3,
     "metadata": {},
     "output_type": "execute_result"
    }
   ],
   "source": [
    "df_GM = df[df['Name']=='GM']\n",
    "df_GM=df_GM.drop(['high','low','volume','open'],axis=1)\n",
    "pd.DataFrame.tail(df_GM)"
   ]
  },
  {
   "cell_type": "code",
   "execution_count": 8,
   "metadata": {},
   "outputs": [
    {
     "data": {
      "text/plain": [
       "<matplotlib.axes._subplots.AxesSubplot at 0x24f4940cb00>"
      ]
     },
     "execution_count": 8,
     "metadata": {},
     "output_type": "execute_result"
    },
    {
     "data": {
      "image/png": "[encoded data removed]",
      "text/plain": [
       "<matplotlib.figure.Figure at 0x24f43587c18>"
      ]
     },
     "metadata": {},
     "output_type": "display_data"
    }
   ],
   "source": [
    "df_GM.plot()"
   ]
  },
  {
   "cell_type": "code",
   "execution_count": 5,
   "metadata": {},
   "outputs": [],
   "source": [
    "df_GM.to_csv('../data/GM_Stock.csv')"
   ]
  },
  {
   "cell_type": "code",
   "execution_count": 6,
   "metadata": {},
   "outputs": [
    {
     "data": {
      "text/html": [
       "<div>\n",
       "<style scoped>\n",
       "    .dataframe tbody tr th:only-of-type {\n",
       "        vertical-align: middle;\n",
       "    }\n",
       "\n",
       "    .dataframe tbody tr th {\n",
       "        vertical-align: top;\n",
       "    }\n",
       "\n",
       "    .dataframe thead th {\n",
       "        text-align: right;\n",
       "    }\n",
       "</style>\n",
       "<table border=\"1\" class=\"dataframe\">\n",
       "  <thead>\n",
       "    <tr style=\"text-align: right;\">\n",
       "      <th></th>\n",
       "      <th>close</th>\n",
       "      <th>Name</th>\n",
       "      <th>RealName</th>\n",
       "    </tr>\n",
       "    <tr>\n",
       "      <th>date</th>\n",
       "      <th></th>\n",
       "      <th></th>\n",
       "      <th></th>\n",
       "    </tr>\n",
       "  </thead>\n",
       "  <tbody>\n",
       "    <tr>\n",
       "      <th>2019-01-11</th>\n",
       "      <td>1064.47</td>\n",
       "      <td>GOOGL</td>\n",
       "      <td>Alpabet / Google</td>\n",
       "    </tr>\n",
       "    <tr>\n",
       "      <th>2019-01-14</th>\n",
       "      <td>1051.51</td>\n",
       "      <td>GOOGL</td>\n",
       "      <td>Alpabet / Google</td>\n",
       "    </tr>\n",
       "    <tr>\n",
       "      <th>2019-01-15</th>\n",
       "      <td>1086.51</td>\n",
       "      <td>GOOGL</td>\n",
       "      <td>Alpabet / Google</td>\n",
       "    </tr>\n",
       "    <tr>\n",
       "      <th>2019-01-16</th>\n",
       "      <td>1089.51</td>\n",
       "      <td>GOOGL</td>\n",
       "      <td>Alpabet / Google</td>\n",
       "    </tr>\n",
       "    <tr>\n",
       "      <th>2019-01-17</th>\n",
       "      <td>1099.12</td>\n",
       "      <td>GOOGL</td>\n",
       "      <td>Alpabet / Google</td>\n",
       "    </tr>\n",
       "  </tbody>\n",
       "</table>\n",
       "</div>"
      ],
      "text/plain": [
       "              close   Name          RealName\n",
       "date                                        \n",
       "2019-01-11  1064.47  GOOGL  Alpabet / Google\n",
       "2019-01-14  1051.51  GOOGL  Alpabet / Google\n",
       "2019-01-15  1086.51  GOOGL  Alpabet / Google\n",
       "2019-01-16  1089.51  GOOGL  Alpabet / Google\n",
       "2019-01-17  1099.12  GOOGL  Alpabet / Google"
      ]
     },
     "execution_count": 6,
     "metadata": {},
     "output_type": "execute_result"
    }
   ],
   "source": [
    "df_GOOGL = df[df['Name']=='GOOGL']\n",
    "df_GOOGL=df_GOOGL.drop(['high','low','volume','open'],axis=1)\n",
    "pd.DataFrame.tail(df_GOOGL)"
   ]
  },
  {
   "cell_type": "code",
   "execution_count": 9,
   "metadata": {},
   "outputs": [
    {
     "data": {
      "text/plain": [
       "<matplotlib.axes._subplots.AxesSubplot at 0x24f4940c908>"
      ]
     },
     "execution_count": 9,
     "metadata": {},
     "output_type": "execute_result"
    },
    {
     "data": {
      "image/png": "[encoded data removed]",
      "text/plain": [
       "<matplotlib.figure.Figure at 0x24f4942cc18>"
      ]
     },
     "metadata": {},
     "output_type": "display_data"
    }
   ],
   "source": [
    "df_GOOGL.plot()"
   ]
  },
  {
   "cell_type": "code",
   "execution_count": 7,
   "metadata": {},
   "outputs": [],
   "source": [
    "df_GOOGL.to_csv('../data/GOOGL_Stock.csv')"
   ]
  }
 ],
 "metadata": {
  "kernelspec": {
   "display_name": "Python 3",
   "language": "python",
   "name": "python3"
  },
  "language_info": {
   "codemirror_mode": {
    "name": "ipython",
    "version": 3
   },
   "file_extension": ".py",
   "mimetype": "text/x-python",
   "name": "python",
   "nbconvert_exporter": "python",
   "pygments_lexer": "ipython3",
   "version": "3.6.4"
  }
 },
 "nbformat": 4,
 "nbformat_minor": 2
}
