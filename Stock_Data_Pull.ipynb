{
 "cells": [
  {
   "cell_type": "code",
   "execution_count": 1,
   "metadata": {},
   "outputs": [],
   "source": [
    "## Code by Eric Englin\n",
    "## This is a project for Team B3 in Harvard Kennedy School Code 4 Policy course\n",
    "# This jupyter notebook pulls historical NYSE stock data for major companies in the auto & tech industry\n",
    "# Please note that many car companies do not participate in the NYSE, so these companies will not show up in this analysis\n",
    "\n",
    "##Code originally forked from CNuge repo kaggle-code, stock data"
   ]
  },
  {
   "cell_type": "code",
   "execution_count": 2,
   "metadata": {},
   "outputs": [
    {
     "name": "stdout",
     "output_type": "stream",
     "text": [
      "TSLA\n"
     ]
    },
    {
     "data": {
      "text/plain": [
       "<matplotlib.figure.Figure at 0x1ed9cd420b8>"
      ]
     },
     "metadata": {},
     "output_type": "display_data"
    },
    {
     "name": "stdout",
     "output_type": "stream",
     "text": [
      "TM\n"
     ]
    },
    {
     "data": {
      "text/plain": [
       "<matplotlib.figure.Figure at 0x1ed9ce3b4a8>"
      ]
     },
     "metadata": {},
     "output_type": "display_data"
    },
    {
     "name": "stdout",
     "output_type": "stream",
     "text": [
      "NVDA\n"
     ]
    },
    {
     "data": {
      "text/plain": [
       "<matplotlib.figure.Figure at 0x1ed9cee2128>"
      ]
     },
     "metadata": {},
     "output_type": "display_data"
    },
    {
     "name": "stdout",
     "output_type": "stream",
     "text": [
      "RACE\n"
     ]
    },
    {
     "data": {
      "text/plain": [
       "<matplotlib.figure.Figure at 0x1ed9ce3ba20>"
      ]
     },
     "metadata": {},
     "output_type": "display_data"
    },
    {
     "name": "stdout",
     "output_type": "stream",
     "text": [
      "GM\n"
     ]
    },
    {
     "data": {
      "text/plain": [
       "<matplotlib.figure.Figure at 0x1ed9cd426a0>"
      ]
     },
     "metadata": {},
     "output_type": "display_data"
    },
    {
     "name": "stdout",
     "output_type": "stream",
     "text": [
      "HMC\n"
     ]
    },
    {
     "data": {
      "text/plain": [
       "<matplotlib.figure.Figure at 0x1ed9ce2cef0>"
      ]
     },
     "metadata": {},
     "output_type": "display_data"
    },
    {
     "name": "stdout",
     "output_type": "stream",
     "text": [
      "FUV\n"
     ]
    },
    {
     "data": {
      "text/plain": [
       "<matplotlib.figure.Figure at 0x1ed9ce320b8>"
      ]
     },
     "metadata": {},
     "output_type": "display_data"
    },
    {
     "name": "stdout",
     "output_type": "stream",
     "text": [
      "HOG\n"
     ]
    },
    {
     "data": {
      "text/plain": [
       "<matplotlib.figure.Figure at 0x1ed9cdcf630>"
      ]
     },
     "metadata": {},
     "output_type": "display_data"
    },
    {
     "name": "stdout",
     "output_type": "stream",
     "text": [
      "FCAU\n"
     ]
    },
    {
     "data": {
      "text/plain": [
       "<matplotlib.figure.Figure at 0x1ed9ce32f28>"
      ]
     },
     "metadata": {},
     "output_type": "display_data"
    },
    {
     "name": "stdout",
     "output_type": "stream",
     "text": [
      "F\n"
     ]
    },
    {
     "data": {
      "text/plain": [
       "<matplotlib.figure.Figure at 0x1ed9cdd9da0>"
      ]
     },
     "metadata": {},
     "output_type": "display_data"
    },
    {
     "name": "stdout",
     "output_type": "stream",
     "text": [
      "KNDI\n"
     ]
    },
    {
     "data": {
      "text/plain": [
       "<matplotlib.figure.Figure at 0x1ed9cd42780>"
      ]
     },
     "metadata": {},
     "output_type": "display_data"
    },
    {
     "name": "stdout",
     "output_type": "stream",
     "text": [
      "NIO\n"
     ]
    },
    {
     "data": {
      "text/plain": [
       "<matplotlib.figure.Figure at 0x1ed9cdcf828>"
      ]
     },
     "metadata": {},
     "output_type": "display_data"
    },
    {
     "name": "stdout",
     "output_type": "stream",
     "text": [
      "TTM\n"
     ]
    },
    {
     "data": {
      "text/plain": [
       "<matplotlib.figure.Figure at 0x1ed9cdc8fd0>"
      ]
     },
     "metadata": {},
     "output_type": "display_data"
    },
    {
     "name": "stdout",
     "output_type": "stream",
     "text": [
      "SPAR\n"
     ]
    },
    {
     "data": {
      "text/plain": [
       "<matplotlib.figure.Figure at 0x1ed9cd2df28>"
      ]
     },
     "metadata": {},
     "output_type": "display_data"
    },
    {
     "name": "stdout",
     "output_type": "stream",
     "text": [
      "WKHS\n"
     ]
    },
    {
     "data": {
      "text/plain": [
       "<matplotlib.figure.Figure at 0x1ed9ce3b080>"
      ]
     },
     "metadata": {},
     "output_type": "display_data"
    },
    {
     "name": "stdout",
     "output_type": "stream",
     "text": [
      "GOOGL\n"
     ]
    },
    {
     "data": {
      "text/plain": [
       "<matplotlib.figure.Figure at 0x1ed9ceff940>"
      ]
     },
     "metadata": {},
     "output_type": "display_data"
    }
   ],
   "source": [
    "from datetime import datetime\n",
    "from concurrent import futures\n",
    "import matplotlib.pyplot as plt\n",
    "\n",
    "import pandas as pd\n",
    "from pandas import DataFrame\n",
    "import pandas_datareader.data as web\n",
    "\n",
    "\n",
    "auto = ['TSLA','TM','NVDA','RACE','GM','HMC','FUV','HOG','FCAU','F','KNDI',\n",
    "        'NIO','TTM','SPAR','WKHS','GOOGL']\n",
    "\n",
    "autoname = {\n",
    "    'TSLA':'Tesla',\n",
    "    'TM':'Toyota',\n",
    "    'RACE':'Ferrari',\n",
    "    'GM':'GM',\n",
    "    'HMC':'Honda',\n",
    "    'FUV':'Arcimoto',\n",
    "    'NVDA':'Nvidia',\n",
    "    'HOG':'HarleyDavidson',\n",
    "    'FCAU':'FiatChrysler',\n",
    "    'F':'Ford',\n",
    "    'KNDI':'KandiTechnologiesInc',\n",
    "    'NIO':'NIO',\n",
    "    'TTM':'TataMotors',\n",
    "    'SPAR':'SpartanMotors',\n",
    "    'WKHS':'WorkhorseGroupInc',\n",
    "    'GOOGL':'Google'\n",
    "}\n",
    "\n",
    "now_time = datetime.now()\n",
    "start_time = datetime(now_time.year - 5, now_time.month , now_time.day)\n",
    "stock_df=[]\n",
    "df = pd.DataFrame([])\n",
    "stockplot=[]\n",
    "\n",
    "\n",
    "for x in auto:\n",
    "    print(x)\n",
    "    stock_df = web.DataReader(x,'iex', start_time, now_time)\n",
    "    stock_df['Name'] = x\n",
    "    stock_df['RealName'] = autoname[x]\n",
    "    df = df.append(stock_df)\n",
    "    stockplot = stock_df.drop(['high','low','volume','close'],axis=1)\n",
    "    RealName=stockplot['RealName']\n",
    "    stockplot.plot()\n",
    "    plt.axis()\n",
    "    plt.title(autoname[x])\n",
    "    plt.show()\n",
    "    "
   ]
  },
  {
   "cell_type": "code",
   "execution_count": 3,
   "metadata": {},
   "outputs": [
    {
     "data": {
      "text/html": [
       "<div>\n",
       "<style scoped>\n",
       "    .dataframe tbody tr th:only-of-type {\n",
       "        vertical-align: middle;\n",
       "    }\n",
       "\n",
       "    .dataframe tbody tr th {\n",
       "        vertical-align: top;\n",
       "    }\n",
       "\n",
       "    .dataframe thead th {\n",
       "        text-align: right;\n",
       "    }\n",
       "</style>\n",
       "<table border=\"1\" class=\"dataframe\">\n",
       "  <thead>\n",
       "    <tr style=\"text-align: right;\">\n",
       "      <th></th>\n",
       "      <th>open</th>\n",
       "      <th>high</th>\n",
       "      <th>low</th>\n",
       "      <th>close</th>\n",
       "      <th>volume</th>\n",
       "      <th>Name</th>\n",
       "      <th>RealName</th>\n",
       "    </tr>\n",
       "    <tr>\n",
       "      <th>date</th>\n",
       "      <th></th>\n",
       "      <th></th>\n",
       "      <th></th>\n",
       "      <th></th>\n",
       "      <th></th>\n",
       "      <th></th>\n",
       "      <th></th>\n",
       "    </tr>\n",
       "  </thead>\n",
       "  <tbody>\n",
       "    <tr>\n",
       "      <th>2014-01-21</th>\n",
       "      <td>171.24</td>\n",
       "      <td>177.290</td>\n",
       "      <td>170.810</td>\n",
       "      <td>176.68</td>\n",
       "      <td>9745765</td>\n",
       "      <td>TSLA</td>\n",
       "      <td>Tesla</td>\n",
       "    </tr>\n",
       "    <tr>\n",
       "      <th>2014-01-22</th>\n",
       "      <td>177.81</td>\n",
       "      <td>180.319</td>\n",
       "      <td>174.760</td>\n",
       "      <td>178.56</td>\n",
       "      <td>7036758</td>\n",
       "      <td>TSLA</td>\n",
       "      <td>Tesla</td>\n",
       "    </tr>\n",
       "    <tr>\n",
       "      <th>2014-01-23</th>\n",
       "      <td>177.23</td>\n",
       "      <td>182.380</td>\n",
       "      <td>173.420</td>\n",
       "      <td>181.50</td>\n",
       "      <td>7899515</td>\n",
       "      <td>TSLA</td>\n",
       "      <td>Tesla</td>\n",
       "    </tr>\n",
       "    <tr>\n",
       "      <th>2014-01-24</th>\n",
       "      <td>177.85</td>\n",
       "      <td>180.480</td>\n",
       "      <td>173.531</td>\n",
       "      <td>174.60</td>\n",
       "      <td>7711296</td>\n",
       "      <td>TSLA</td>\n",
       "      <td>Tesla</td>\n",
       "    </tr>\n",
       "    <tr>\n",
       "      <th>2014-01-27</th>\n",
       "      <td>175.16</td>\n",
       "      <td>177.920</td>\n",
       "      <td>164.710</td>\n",
       "      <td>169.62</td>\n",
       "      <td>8737773</td>\n",
       "      <td>TSLA</td>\n",
       "      <td>Tesla</td>\n",
       "    </tr>\n",
       "  </tbody>\n",
       "</table>\n",
       "</div>"
      ],
      "text/plain": [
       "              open     high      low   close   volume  Name RealName\n",
       "date                                                                \n",
       "2014-01-21  171.24  177.290  170.810  176.68  9745765  TSLA    Tesla\n",
       "2014-01-22  177.81  180.319  174.760  178.56  7036758  TSLA    Tesla\n",
       "2014-01-23  177.23  182.380  173.420  181.50  7899515  TSLA    Tesla\n",
       "2014-01-24  177.85  180.480  173.531  174.60  7711296  TSLA    Tesla\n",
       "2014-01-27  175.16  177.920  164.710  169.62  8737773  TSLA    Tesla"
      ]
     },
     "execution_count": 3,
     "metadata": {},
     "output_type": "execute_result"
    }
   ],
   "source": [
    "#Look at the table to ensure that table starts 5 years ago with Tesla\n",
    "#Also want to make sure that RealName variable came through\n",
    "pd.DataFrame.head(df)"
   ]
  },
  {
   "cell_type": "code",
   "execution_count": 4,
   "metadata": {},
   "outputs": [
    {
     "data": {
      "text/html": [
       "<div>\n",
       "<style scoped>\n",
       "    .dataframe tbody tr th:only-of-type {\n",
       "        vertical-align: middle;\n",
       "    }\n",
       "\n",
       "    .dataframe tbody tr th {\n",
       "        vertical-align: top;\n",
       "    }\n",
       "\n",
       "    .dataframe thead th {\n",
       "        text-align: right;\n",
       "    }\n",
       "</style>\n",
       "<table border=\"1\" class=\"dataframe\">\n",
       "  <thead>\n",
       "    <tr style=\"text-align: right;\">\n",
       "      <th></th>\n",
       "      <th>open</th>\n",
       "      <th>high</th>\n",
       "      <th>low</th>\n",
       "      <th>close</th>\n",
       "      <th>volume</th>\n",
       "      <th>Name</th>\n",
       "      <th>RealName</th>\n",
       "    </tr>\n",
       "    <tr>\n",
       "      <th>date</th>\n",
       "      <th></th>\n",
       "      <th></th>\n",
       "      <th></th>\n",
       "      <th></th>\n",
       "      <th></th>\n",
       "      <th></th>\n",
       "      <th></th>\n",
       "    </tr>\n",
       "  </thead>\n",
       "  <tbody>\n",
       "    <tr>\n",
       "      <th>2019-01-14</th>\n",
       "      <td>1053.34</td>\n",
       "      <td>1058.45</td>\n",
       "      <td>1048.55</td>\n",
       "      <td>1051.51</td>\n",
       "      <td>1424486</td>\n",
       "      <td>GOOGL</td>\n",
       "      <td>Google</td>\n",
       "    </tr>\n",
       "    <tr>\n",
       "      <th>2019-01-15</th>\n",
       "      <td>1058.01</td>\n",
       "      <td>1088.27</td>\n",
       "      <td>1054.44</td>\n",
       "      <td>1086.51</td>\n",
       "      <td>1875852</td>\n",
       "      <td>GOOGL</td>\n",
       "      <td>Google</td>\n",
       "    </tr>\n",
       "    <tr>\n",
       "      <th>2019-01-16</th>\n",
       "      <td>1090.00</td>\n",
       "      <td>1102.36</td>\n",
       "      <td>1088.01</td>\n",
       "      <td>1089.51</td>\n",
       "      <td>1914041</td>\n",
       "      <td>GOOGL</td>\n",
       "      <td>Google</td>\n",
       "    </tr>\n",
       "    <tr>\n",
       "      <th>2019-01-17</th>\n",
       "      <td>1087.99</td>\n",
       "      <td>1100.70</td>\n",
       "      <td>1083.26</td>\n",
       "      <td>1099.12</td>\n",
       "      <td>1244801</td>\n",
       "      <td>GOOGL</td>\n",
       "      <td>Google</td>\n",
       "    </tr>\n",
       "    <tr>\n",
       "      <th>2019-01-18</th>\n",
       "      <td>1108.59</td>\n",
       "      <td>1118.00</td>\n",
       "      <td>1099.28</td>\n",
       "      <td>1107.30</td>\n",
       "      <td>2244569</td>\n",
       "      <td>GOOGL</td>\n",
       "      <td>Google</td>\n",
       "    </tr>\n",
       "  </tbody>\n",
       "</table>\n",
       "</div>"
      ],
      "text/plain": [
       "               open     high      low    close   volume   Name RealName\n",
       "date                                                                   \n",
       "2019-01-14  1053.34  1058.45  1048.55  1051.51  1424486  GOOGL   Google\n",
       "2019-01-15  1058.01  1088.27  1054.44  1086.51  1875852  GOOGL   Google\n",
       "2019-01-16  1090.00  1102.36  1088.01  1089.51  1914041  GOOGL   Google\n",
       "2019-01-17  1087.99  1100.70  1083.26  1099.12  1244801  GOOGL   Google\n",
       "2019-01-18  1108.59  1118.00  1099.28  1107.30  2244569  GOOGL   Google"
      ]
     },
     "execution_count": 4,
     "metadata": {},
     "output_type": "execute_result"
    }
   ],
   "source": [
    "#Look at tail to make sure it is yesterday with GOOGL\n",
    "pd.DataFrame.tail(df)"
   ]
  },
  {
   "cell_type": "code",
   "execution_count": 5,
   "metadata": {},
   "outputs": [],
   "source": [
    "#Save as a final csv for data visualization\n",
    "df.to_csv('./data/stock_5_years_rows.csv')"
   ]
  },
  {
   "cell_type": "code",
   "execution_count": 6,
   "metadata": {},
   "outputs": [
    {
     "data": {
      "text/html": [
       "<div>\n",
       "<style scoped>\n",
       "    .dataframe tbody tr th:only-of-type {\n",
       "        vertical-align: middle;\n",
       "    }\n",
       "\n",
       "    .dataframe tbody tr th {\n",
       "        vertical-align: top;\n",
       "    }\n",
       "\n",
       "    .dataframe thead th {\n",
       "        text-align: right;\n",
       "    }\n",
       "</style>\n",
       "<table border=\"1\" class=\"dataframe\">\n",
       "  <thead>\n",
       "    <tr style=\"text-align: right;\">\n",
       "      <th></th>\n",
       "      <th>open</th>\n",
       "      <th>high</th>\n",
       "      <th>low</th>\n",
       "      <th>close</th>\n",
       "      <th>volume</th>\n",
       "      <th>Name</th>\n",
       "      <th>RealName</th>\n",
       "    </tr>\n",
       "    <tr>\n",
       "      <th>date</th>\n",
       "      <th></th>\n",
       "      <th></th>\n",
       "      <th></th>\n",
       "      <th></th>\n",
       "      <th></th>\n",
       "      <th></th>\n",
       "      <th></th>\n",
       "    </tr>\n",
       "  </thead>\n",
       "  <tbody>\n",
       "    <tr>\n",
       "      <th>2019-01-14</th>\n",
       "      <td>342.38</td>\n",
       "      <td>342.5000</td>\n",
       "      <td>334.0000</td>\n",
       "      <td>334.40</td>\n",
       "      <td>5247284</td>\n",
       "      <td>TSLA</td>\n",
       "      <td>Tesla</td>\n",
       "    </tr>\n",
       "    <tr>\n",
       "      <th>2019-01-15</th>\n",
       "      <td>335.00</td>\n",
       "      <td>348.8000</td>\n",
       "      <td>334.5000</td>\n",
       "      <td>344.43</td>\n",
       "      <td>6056590</td>\n",
       "      <td>TSLA</td>\n",
       "      <td>Tesla</td>\n",
       "    </tr>\n",
       "    <tr>\n",
       "      <th>2019-01-16</th>\n",
       "      <td>344.78</td>\n",
       "      <td>352.0000</td>\n",
       "      <td>343.5000</td>\n",
       "      <td>346.05</td>\n",
       "      <td>4691739</td>\n",
       "      <td>TSLA</td>\n",
       "      <td>Tesla</td>\n",
       "    </tr>\n",
       "    <tr>\n",
       "      <th>2019-01-17</th>\n",
       "      <td>346.21</td>\n",
       "      <td>351.5000</td>\n",
       "      <td>344.1500</td>\n",
       "      <td>347.31</td>\n",
       "      <td>3676733</td>\n",
       "      <td>TSLA</td>\n",
       "      <td>Tesla</td>\n",
       "    </tr>\n",
       "    <tr>\n",
       "      <th>2019-01-18</th>\n",
       "      <td>323.00</td>\n",
       "      <td>327.1297</td>\n",
       "      <td>299.7301</td>\n",
       "      <td>302.26</td>\n",
       "      <td>24150763</td>\n",
       "      <td>TSLA</td>\n",
       "      <td>Tesla</td>\n",
       "    </tr>\n",
       "  </tbody>\n",
       "</table>\n",
       "</div>"
      ],
      "text/plain": [
       "              open      high       low   close    volume  Name RealName\n",
       "date                                                                   \n",
       "2019-01-14  342.38  342.5000  334.0000  334.40   5247284  TSLA    Tesla\n",
       "2019-01-15  335.00  348.8000  334.5000  344.43   6056590  TSLA    Tesla\n",
       "2019-01-16  344.78  352.0000  343.5000  346.05   4691739  TSLA    Tesla\n",
       "2019-01-17  346.21  351.5000  344.1500  347.31   3676733  TSLA    Tesla\n",
       "2019-01-18  323.00  327.1297  299.7301  302.26  24150763  TSLA    Tesla"
      ]
     },
     "execution_count": 6,
     "metadata": {},
     "output_type": "execute_result"
    }
   ],
   "source": [
    "df_Tesla = df[df['Name']=='TSLA']\n",
    "pd.DataFrame.tail(df_Tesla)"
   ]
  },
  {
   "cell_type": "code",
   "execution_count": 7,
   "metadata": {},
   "outputs": [],
   "source": [
    "df_Tesla=df_Tesla.drop(['high','low','volume','open'],axis=1)"
   ]
  },
  {
   "cell_type": "code",
   "execution_count": 8,
   "metadata": {},
   "outputs": [
    {
     "data": {
      "text/plain": [
       "['close', 'Name', 'RealName']"
      ]
     },
     "execution_count": 8,
     "metadata": {},
     "output_type": "execute_result"
    }
   ],
   "source": [
    "# We want our dates in 16-Apr-12 format\n",
    "list(df_Tesla.columns.values)"
   ]
  },
  {
   "cell_type": "code",
   "execution_count": 9,
   "metadata": {},
   "outputs": [],
   "source": [
    "#Building visualization specific to Telsa to start\n",
    "#Save as a final csv for data visualization\n",
    "df_Tesla.to_csv('./data/Tesla_Stock.csv')"
   ]
  },
  {
   "cell_type": "code",
   "execution_count": 10,
   "metadata": {},
   "outputs": [
    {
     "data": {
      "text/plain": [
       "<matplotlib.axes._subplots.AxesSubplot at 0x1ed9e294128>"
      ]
     },
     "execution_count": 10,
     "metadata": {},
     "output_type": "execute_result"
    },
    {
     "data": {
      "image/png": "[encoded data removed]",
      "text/plain": [
       "<matplotlib.figure.Figure at 0x1ed9e257d30>"
      ]
     },
     "metadata": {},
     "output_type": "display_data"
    }
   ],
   "source": [
    "df_Tesla.plot()"
   ]
  },
  {
   "cell_type": "code",
   "execution_count": 11,
   "metadata": {},
   "outputs": [],
   "source": [
    "import csv\n",
    "df_datacol = pd.read_csv('./data/stock_5_years_rows.csv')"
   ]
  },
  {
   "cell_type": "code",
   "execution_count": 12,
   "metadata": {},
   "outputs": [],
   "source": [
    "dfnew = df_datacol.drop(['high','low','volume','open','Name'],axis=1)\n",
    "dfnew=dfnew.pivot(index='date', columns='RealName', values='close')"
   ]
  },
  {
   "cell_type": "code",
   "execution_count": 13,
   "metadata": {},
   "outputs": [
    {
     "data": {
      "text/plain": [
       "['Arcimoto',\n",
       " 'Ferrari',\n",
       " 'FiatChrysler',\n",
       " 'Ford',\n",
       " 'GM',\n",
       " 'Google',\n",
       " 'HarleyDavidson',\n",
       " 'Honda',\n",
       " 'KandiTechnologiesInc',\n",
       " 'NIO',\n",
       " 'Nvidia',\n",
       " 'SpartanMotors',\n",
       " 'TataMotors',\n",
       " 'Tesla',\n",
       " 'Toyota',\n",
       " 'WorkhorseGroupInc']"
      ]
     },
     "execution_count": 13,
     "metadata": {},
     "output_type": "execute_result"
    }
   ],
   "source": [
    "list(dfnew)"
   ]
  },
  {
   "cell_type": "code",
   "execution_count": 25,
   "metadata": {},
   "outputs": [],
   "source": [
    "dfnew['Arcimoto'].fillna(0, inplace=True)\n",
    "dfnew['Ferrari'].fillna(0, inplace=True)\n",
    "dfnew['FiatChrysler'].fillna(0, inplace=True)\n",
    "dfnew['NIO'].fillna(0, inplace=True)"
   ]
  },
  {
   "cell_type": "code",
   "execution_count": 26,
   "metadata": {},
   "outputs": [
    {
     "data": {
      "text/html": [
       "<div>\n",
       "<style scoped>\n",
       "    .dataframe tbody tr th:only-of-type {\n",
       "        vertical-align: middle;\n",
       "    }\n",
       "\n",
       "    .dataframe tbody tr th {\n",
       "        vertical-align: top;\n",
       "    }\n",
       "\n",
       "    .dataframe thead th {\n",
       "        text-align: right;\n",
       "    }\n",
       "</style>\n",
       "<table border=\"1\" class=\"dataframe\">\n",
       "  <thead>\n",
       "    <tr style=\"text-align: right;\">\n",
       "      <th>RealName</th>\n",
       "      <th>Arcimoto</th>\n",
       "      <th>Ferrari</th>\n",
       "      <th>FiatChrysler</th>\n",
       "      <th>Ford</th>\n",
       "      <th>GM</th>\n",
       "      <th>Google</th>\n",
       "      <th>HarleyDavidson</th>\n",
       "      <th>Honda</th>\n",
       "      <th>KandiTechnologiesInc</th>\n",
       "      <th>NIO</th>\n",
       "      <th>Nvidia</th>\n",
       "      <th>SpartanMotors</th>\n",
       "      <th>TataMotors</th>\n",
       "      <th>Tesla</th>\n",
       "      <th>Toyota</th>\n",
       "      <th>WorkhorseGroupInc</th>\n",
       "      <th>salary_mean</th>\n",
       "      <th>ManufacturerAverage</th>\n",
       "    </tr>\n",
       "    <tr>\n",
       "      <th>date</th>\n",
       "      <th></th>\n",
       "      <th></th>\n",
       "      <th></th>\n",
       "      <th></th>\n",
       "      <th></th>\n",
       "      <th></th>\n",
       "      <th></th>\n",
       "      <th></th>\n",
       "      <th></th>\n",
       "      <th></th>\n",
       "      <th></th>\n",
       "      <th></th>\n",
       "      <th></th>\n",
       "      <th></th>\n",
       "      <th></th>\n",
       "      <th></th>\n",
       "      <th></th>\n",
       "      <th></th>\n",
       "    </tr>\n",
       "  </thead>\n",
       "  <tbody>\n",
       "    <tr>\n",
       "      <th>2014-01-21</th>\n",
       "      <td>0.0</td>\n",
       "      <td>0.0</td>\n",
       "      <td>0.0</td>\n",
       "      <td>12.6217</td>\n",
       "      <td>31.2460</td>\n",
       "      <td>582.4319</td>\n",
       "      <td>59.1538</td>\n",
       "      <td>34.7440</td>\n",
       "      <td>13.33</td>\n",
       "      <td>0.0</td>\n",
       "      <td>15.2614</td>\n",
       "      <td>6.2552</td>\n",
       "      <td>30.6401</td>\n",
       "      <td>176.68</td>\n",
       "      <td>103.2031</td>\n",
       "      <td>1.101</td>\n",
       "      <td>36.36296</td>\n",
       "      <td>36.36296</td>\n",
       "    </tr>\n",
       "    <tr>\n",
       "      <th>2014-01-22</th>\n",
       "      <td>0.0</td>\n",
       "      <td>0.0</td>\n",
       "      <td>0.0</td>\n",
       "      <td>12.7294</td>\n",
       "      <td>31.6209</td>\n",
       "      <td>583.0925</td>\n",
       "      <td>58.5931</td>\n",
       "      <td>34.6481</td>\n",
       "      <td>13.90</td>\n",
       "      <td>0.0</td>\n",
       "      <td>15.2424</td>\n",
       "      <td>6.2460</td>\n",
       "      <td>31.2079</td>\n",
       "      <td>178.56</td>\n",
       "      <td>104.2569</td>\n",
       "      <td>1.150</td>\n",
       "      <td>36.65106</td>\n",
       "      <td>36.65106</td>\n",
       "    </tr>\n",
       "    <tr>\n",
       "      <th>2014-01-23</th>\n",
       "      <td>0.0</td>\n",
       "      <td>0.0</td>\n",
       "      <td>0.0</td>\n",
       "      <td>12.6371</td>\n",
       "      <td>31.3112</td>\n",
       "      <td>580.6300</td>\n",
       "      <td>57.7344</td>\n",
       "      <td>33.9677</td>\n",
       "      <td>13.11</td>\n",
       "      <td>0.0</td>\n",
       "      <td>15.1853</td>\n",
       "      <td>6.0882</td>\n",
       "      <td>30.3512</td>\n",
       "      <td>181.50</td>\n",
       "      <td>102.2607</td>\n",
       "      <td>1.200</td>\n",
       "      <td>36.03534</td>\n",
       "      <td>36.03534</td>\n",
       "    </tr>\n",
       "    <tr>\n",
       "      <th>2014-01-24</th>\n",
       "      <td>0.0</td>\n",
       "      <td>0.0</td>\n",
       "      <td>0.0</td>\n",
       "      <td>12.1756</td>\n",
       "      <td>30.0154</td>\n",
       "      <td>562.4769</td>\n",
       "      <td>56.0958</td>\n",
       "      <td>33.1477</td>\n",
       "      <td>12.37</td>\n",
       "      <td>0.0</td>\n",
       "      <td>14.7954</td>\n",
       "      <td>5.8005</td>\n",
       "      <td>28.7276</td>\n",
       "      <td>174.60</td>\n",
       "      <td>100.9927</td>\n",
       "      <td>1.250</td>\n",
       "      <td>35.26628</td>\n",
       "      <td>35.26628</td>\n",
       "    </tr>\n",
       "    <tr>\n",
       "      <th>2014-01-27</th>\n",
       "      <td>0.0</td>\n",
       "      <td>0.0</td>\n",
       "      <td>0.0</td>\n",
       "      <td>12.0833</td>\n",
       "      <td>29.9584</td>\n",
       "      <td>551.1656</td>\n",
       "      <td>56.2711</td>\n",
       "      <td>33.2175</td>\n",
       "      <td>11.61</td>\n",
       "      <td>0.0</td>\n",
       "      <td>14.7004</td>\n",
       "      <td>5.6241</td>\n",
       "      <td>27.1438</td>\n",
       "      <td>169.62</td>\n",
       "      <td>100.2645</td>\n",
       "      <td>1.139</td>\n",
       "      <td>35.10474</td>\n",
       "      <td>35.10474</td>\n",
       "    </tr>\n",
       "  </tbody>\n",
       "</table>\n",
       "</div>"
      ],
      "text/plain": [
       "RealName    Arcimoto  Ferrari  FiatChrysler     Ford       GM    Google  \\\n",
       "date                                                                      \n",
       "2014-01-21       0.0      0.0           0.0  12.6217  31.2460  582.4319   \n",
       "2014-01-22       0.0      0.0           0.0  12.7294  31.6209  583.0925   \n",
       "2014-01-23       0.0      0.0           0.0  12.6371  31.3112  580.6300   \n",
       "2014-01-24       0.0      0.0           0.0  12.1756  30.0154  562.4769   \n",
       "2014-01-27       0.0      0.0           0.0  12.0833  29.9584  551.1656   \n",
       "\n",
       "RealName    HarleyDavidson    Honda  KandiTechnologiesInc  NIO   Nvidia  \\\n",
       "date                                                                      \n",
       "2014-01-21         59.1538  34.7440                 13.33  0.0  15.2614   \n",
       "2014-01-22         58.5931  34.6481                 13.90  0.0  15.2424   \n",
       "2014-01-23         57.7344  33.9677                 13.11  0.0  15.1853   \n",
       "2014-01-24         56.0958  33.1477                 12.37  0.0  14.7954   \n",
       "2014-01-27         56.2711  33.2175                 11.61  0.0  14.7004   \n",
       "\n",
       "RealName    SpartanMotors  TataMotors   Tesla    Toyota  WorkhorseGroupInc  \\\n",
       "date                                                                         \n",
       "2014-01-21         6.2552     30.6401  176.68  103.2031              1.101   \n",
       "2014-01-22         6.2460     31.2079  178.56  104.2569              1.150   \n",
       "2014-01-23         6.0882     30.3512  181.50  102.2607              1.200   \n",
       "2014-01-24         5.8005     28.7276  174.60  100.9927              1.250   \n",
       "2014-01-27         5.6241     27.1438  169.62  100.2645              1.139   \n",
       "\n",
       "RealName    salary_mean  ManufacturerAverage  \n",
       "date                                          \n",
       "2014-01-21     36.36296             36.36296  \n",
       "2014-01-22     36.65106             36.65106  \n",
       "2014-01-23     36.03534             36.03534  \n",
       "2014-01-24     35.26628             35.26628  \n",
       "2014-01-27     35.10474             35.10474  "
      ]
     },
     "execution_count": 26,
     "metadata": {},
     "output_type": "execute_result"
    }
   ],
   "source": [
    "col = dfnew.loc[: , (\"FiatChrysler\",\"Ford\",\"GM\",\"Honda\",\"Toyota\")]\n",
    "dfnew['ManufacturerAverage'] = col.mean(axis=1)\n",
    "dfnew.head()"
   ]
  },
  {
   "cell_type": "code",
   "execution_count": 31,
   "metadata": {},
   "outputs": [],
   "source": [
    "dfnew.to_csv('./data/stock_5_years_columns.csv',index=True)"
   ]
  }
 ],
 "metadata": {
  "kernelspec": {
   "display_name": "Python 3",
   "language": "python",
   "name": "python3"
  },
  "language_info": {
   "codemirror_mode": {
    "name": "ipython",
    "version": 3
   },
   "file_extension": ".py",
   "mimetype": "text/x-python",
   "name": "python",
   "nbconvert_exporter": "python",
   "pygments_lexer": "ipython3",
   "version": "3.6.4"
  }
 },
 "nbformat": 4,
 "nbformat_minor": 2
}
